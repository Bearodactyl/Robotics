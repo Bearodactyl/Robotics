{
 "cells": [
  {
   "attachments": {},
   "cell_type": "markdown",
   "metadata": {
    "id": "nAvx4-UCNzt2"
   },
   "source": [
    "# A Mobile Robot With Simple Kinematics\n",
    "\n",
    "<img src=\"Figures5/S50-Two-wheeled_Toy_Robot-02.jpg\" alt=\"Splash image with steampunk differential drive robot\" width=\"60%\" align=center style=\"vertical-align:middle;margin:10px 0px\">"
   ]
  },
  {
   "cell_type": "markdown",
   "metadata": {},
   "source": [
    "In summary..."
   ]
  },
  {
   "cell_type": "markdown",
   "metadata": {},
   "source": []
  },
  {
   "cell_type": "markdown",
   "metadata": {},
   "source": [
    "## Models\n",
    "\n",
    "Configuration Space and configuration space obstacles\n",
    "Motion model for the DDR (includes differential kinematics for wheel/pose relationship)\n",
    "\n",
    "Cameras and images\n",
    "•\tGeometry of image formation (includes perspective projection and camera calibration)\n",
    "•\tPixel arrays\n",
    "•\tStereo vision\n",
    "\n",
    "\n"
   ]
  },
  {
   "cell_type": "markdown",
   "metadata": {},
   "source": [
    "## Reasoning\n",
    "\n",
    "\n",
    "Image processing (linear filters and convolution)\n",
    "Fully connected neural nets\n",
    "Convolutional neural nets (wide, deep, pooling)\n",
    "\n",
    "Semantic segmentation\n",
    "Single image depth estimation\n",
    "\n",
    "Deep Learning:\n",
    "•\tSupervised learning (includes validation and testing)\n",
    "•\tLoss functions\n",
    "•\tGradient descent\n",
    "•\tStochastic gradient descent\n",
    "\n",
    "Path planning:\n",
    "•\tValue iteration\n",
    "•\tArtificial potential fields\n",
    "•\tPRMs\n",
    "•\tRRTs\n",
    "\n",
    "Deep Learning\n",
    "•\tLoss functions\n",
    "•\tGradient Descent\n",
    "•\tStochastic Gradient Descent\n",
    "•\tValidation and Testing\n"
   ]
  },
  {
   "cell_type": "markdown",
   "metadata": {},
   "source": [
    "## Background and History"
   ]
  }
 ],
 "metadata": {
  "colab": {
   "collapsed_sections": [],
   "include_colab_link": true,
   "name": "S51_diffdrive_intro.ipynb",
   "provenance": []
  },
  "interpreter": {
   "hash": "c6e4e9f98eb68ad3b7c296f83d20e6de614cb42e90992a65aa266555a3137d0d"
  },
  "kernelspec": {
   "display_name": "Python 3 (ipykernel)",
   "language": "python",
   "name": "python3"
  },
  "language_info": {
   "codemirror_mode": {
    "name": "ipython",
    "version": 3
   },
   "file_extension": ".py",
   "mimetype": "text/x-python",
   "name": "python",
   "nbconvert_exporter": "python",
   "pygments_lexer": "ipython3",
   "version": "3.8.12"
  },
  "latex_metadata": {
   "affiliation": "Georgia Institute of Technology",
   "author": "Frank Dellaert and Seth Hutchinson",
   "title": "Introduction to Robotics"
  }
 },
 "nbformat": 4,
 "nbformat_minor": 2
}
