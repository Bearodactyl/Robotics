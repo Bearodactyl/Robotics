{
 "cells": [
  {
   "attachments": {},
   "cell_type": "markdown",
   "metadata": {
    "id": "nAvx4-UCNzt2"
   },
   "source": [
    "# A Mobile Robot With Simple Kinematics\n",
    "\n",
    "<img src=\"Figures5/S50-Two-wheeled_Toy_Robot-02.jpg\" alt=\"Splash image with steampunk differential drive robot\" width=\"60%\" align=center style=\"vertical-align:middle;margin:10px 0px\">"
   ]
  },
  {
   "cell_type": "markdown",
   "metadata": {},
   "source": [
    "In the first four chapters of this book, we have considered motion and sensor models, but we haven't\n",
    "really discussed the mechanics of motion or the implementation of sensors.\n",
    "We have proposed abstract models (e.g., sensor models of the form $z = h(x)$)\n",
    "and various probability distibutions to characterize uncertainty (e.g., conditional Gaussians),\n",
    "but we have not bothered to related these models to the actual devices that effect motion and sensing.\n",
    "In this chapter, we began to remedy this deficiency, for motion models by studying the kinematics of differential\n",
    "drive robots, and for sensor models by studing cameras.\n",
    "We then developed appropriate planning, perception, and learning approaches for these models."
   ]
  },
  {
   "cell_type": "markdown",
   "metadata": {},
   "source": [
    "## Models\n",
    "\n",
    "We began the chapter with a formal definition of a *configuration* and of the *configuration space* for robotic systems.\n",
    "For the simple differential drive robot of this chapter, we rigidly attach a coordinate frame to the robot,\n",
    "with origin at the midpoint of the axle and $x$-axis parallel to the direction of motion;\n",
    "the pose of this frame (position of its origin, and orientation of its axes) defines a configuration\n",
    "of the robot, and the set of all configurations, ${\\cal Q} = \\mathbb{R}^2 \\times [0, 2\\pi),$ defines\n",
    "the configuration space of the robot.\n",
    "We then showed how it is possible to determine the location of any point on the robot,\n",
    "given the robot's configuration.\n",
    "\n",
    "The modtion model for the differential drive robot relates the angular velocities of the two\n",
    "actuated wheels to the linear and angular velocity of the body-attached coordinate frame.\n",
    "The *forward velocity kinematics* in the body-attached frame are given by\n",
    "\n",
    "$$\n",
    "v_x = \\frac{r}{2} (\\dot{\\phi}_R + \\dot{\\phi}_L)\n",
    "~~~~~~~~\n",
    "\\omega = \\frac{r}{L} (\\dot{\\phi}_R - \\dot{\\phi}_L)\n",
    "$$\n",
    "\n",
    "which can be expressed with respect to the world coordinate frame, as a function\n",
    "of the configuration of the robot, as\n",
    "\n",
    "$$\n",
    "v^{\\mathrm{world}}=\n",
    "\\begin{bmatrix} v_x \\cos \\theta \\\\ v_x \\sin \\theta \\\\ \\dot{\\theta} \\end{bmatrix}\n",
    "=\\begin{bmatrix} \\frac{r}{2} (\\dot{\\phi}_R + \\dot{\\phi}_L) \\cos\\theta  \\\\  \\frac{r}{2} (\\dot{\\phi}_R + \\dot{\\phi}_L) \\sin\\theta  \\\\ \\frac{r}{L} (\\dot{\\phi}_R - \\dot{\\phi}_L)\\end{bmatrix}\n",
    "$$\n",
    "\n",
    "\n",
    "\n",
    "Cameras and images\n",
    "•\tGeometry of image formation (includes perspective projection and camera calibration)\n",
    "•\tPixel arrays\n",
    "•\tStereo vision\n",
    "\n",
    "\n"
   ]
  },
  {
   "cell_type": "markdown",
   "metadata": {},
   "source": [
    "## Reasoning\n",
    "\n",
    "\n",
    "Image processing (linear filters and convolution)\n",
    "Fully connected neural nets\n",
    "Convolutional neural nets (wide, deep, pooling)\n",
    "\n",
    "Semantic segmentation\n",
    "Single image depth estimation\n",
    "\n",
    "Deep Learning:\n",
    "•\tSupervised learning (includes validation and testing)\n",
    "•\tLoss functions\n",
    "•\tGradient descent\n",
    "•\tStochastic gradient descent\n",
    "\n",
    "Path planning:\n",
    "•\tValue iteration\n",
    "•\tArtificial potential fields\n",
    "•\tPRMs\n",
    "•\tRRTs\n",
    "\n",
    "Deep Learning\n",
    "•\tLoss functions\n",
    "•\tGradient Descent\n",
    "•\tStochastic Gradient Descent\n",
    "•\tValidation and Testing\n"
   ]
  },
  {
   "cell_type": "markdown",
   "metadata": {},
   "source": [
    "## Background and History"
   ]
  }
 ],
 "metadata": {
  "colab": {
   "collapsed_sections": [],
   "include_colab_link": true,
   "name": "S51_diffdrive_intro.ipynb",
   "provenance": []
  },
  "interpreter": {
   "hash": "c6e4e9f98eb68ad3b7c296f83d20e6de614cb42e90992a65aa266555a3137d0d"
  },
  "kernelspec": {
   "display_name": "Python 3 (ipykernel)",
   "language": "python",
   "name": "python3"
  },
  "language_info": {
   "codemirror_mode": {
    "name": "ipython",
    "version": 3
   },
   "file_extension": ".py",
   "mimetype": "text/x-python",
   "name": "python",
   "nbconvert_exporter": "python",
   "pygments_lexer": "ipython3",
   "version": "3.8.12"
  },
  "latex_metadata": {
   "affiliation": "Georgia Institute of Technology",
   "author": "Frank Dellaert and Seth Hutchinson",
   "title": "Introduction to Robotics"
  }
 },
 "nbformat": 4,
 "nbformat_minor": 2
}
