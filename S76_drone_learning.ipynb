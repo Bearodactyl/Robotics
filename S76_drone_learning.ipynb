{
 "cells": [
  {
   "cell_type": "markdown",
   "metadata": {
    "colab_type": "text",
    "id": "view-in-github"
   },
   "source": [
    "<a href=\"https://colab.research.google.com/github/gtbook/robotics/blob/main/S76_drone_learning.ipynb\" target=\"_parent\"><img src=\"https://colab.research.google.com/assets/colab-badge.svg\" alt=\"Open In Colab\"/></a>"
   ]
  },
  {
   "cell_type": "code",
   "execution_count": null,
   "metadata": {
    "id": "JoW4C_OkOMhe",
    "tags": [
     "remove-cell"
    ]
   },
   "outputs": [],
   "source": [
    "%pip install -q -U gtbook"
   ]
  },
  {
   "cell_type": "code",
   "execution_count": null,
   "metadata": {
    "id": "10-snNDwOSuC",
    "tags": [
     "remove-cell"
    ]
   },
   "outputs": [],
   "source": [
    "from dataclasses import dataclass\n",
    "import json\n",
    "import numpy as np\n",
    "import torch.nn.functional as F\n",
    "\n",
    "import PIL\n",
    "import plotly\n",
    "import matplotlib.pyplot as plt\n",
    "import plotly.graph_objects as go\n",
    "import plotly.express as px\n",
    "\n",
    "import torch\n",
    "import torch.nn as nn\n",
    "import torch.optim as optim\n",
    "from torch.utils.data import DataLoader, TensorDataset\n",
    "\n",
    "DEVICE = (\n",
    "    torch.device(\"cuda\") if torch.cuda.is_available() else torch.device(\"cpu\")\n",
    ")"
   ]
  },
  {
   "cell_type": "markdown",
   "metadata": {
    "id": "nAvx4-UCNzt2"
   },
   "source": [
    "# Neural Radiance Fields for Drones\n",
    "\n",
    "> Learning 3D scene representations from images.\n",
    "\n",
    "<img src=\"Figures7/S76-Autonomous_camera_drone-06.jpg\" alt=\"Splash image with a drone-like robot, steampunk style\" width=\"40%\" align=center style=\"vertical-align:middle;margin:10px 0px\">"
   ]
  },
  {
   "cell_type": "markdown",
   "metadata": {},
   "source": [
    "## What is a NeRF?\n",
    "\n",
    "> NeRFs represent 3D scenes to render new views.\n",
    "\n",
    "In the previous section we have seen how a density field can assist in planning drone trajectories while avoiding obstacles. In this section we will examine how to learn such representations from image data.\n",
    "\n",
    "A **neural radiance field** of \"NeRF\" is a neural representation of a 3D scene, and hence can be very useful for drones to help with motion planning, obstacle avoidance, or even simply simulation of drone flights. NeRFs are a novel, data-driven solution to the long-standing problem in computer graphics of the realistic rendering of virtual worlds. They were introduced in the field of computer vision in 2020 by a team of researchers from Berkeley and Google, and have since seen an explosion of interest."
   ]
  },
  {
   "cell_type": "markdown",
   "metadata": {},
   "source": [
    "<figure id=\"fig:NeRF-setup\"> \n",
    "<img src=\"https://raw.githubusercontent.com/gtbook/robotics/main/Figures7/NeRF-setup.png?raw=1\" style=\"width:16cm\" alt=\"\">\n",
    "<figcaption>Figure 1: A NeRF stores a volumetric scene representation as the weights of an MLP, trained on many images with known pose.</figcaption>\n",
    "</figure>\n",
    "\n",
    "The original paper appeared at the European Conference on Computer Vision in 2020, and is cited below:\n",
    "\n",
    "> **NeRF: Representing Scenes as Neural Radiance Fields for View Synthesis**,\tBen Mildenhall*, Pratul Srinivasan*, Matthew Tancik*, Jonathan Barron, Ravi Ramamoorthi, Ren Ng, ECCV 2020.\n",
    "\n",
    "Figure <a href=\"#fig:NeRF-setup\" data-reference-type=\"ref\" data-reference=\"fig:NeRF-setup\">1</a>, from that paper, describes the setup: from a set of input images, with *known* camera pose and calibration, a scene representation is learned that encodes the scene, which can then be used to render new views.\n",
    "The original NeRF trained a large neural network to predict the value of every pixel in every image. By doing so, the neural network can then also *generate* new images that are not in the original training set. What is more, the neural network can also be used to predict the 3D structure of the underlying scene, making it possible to do much more than simply view synthesis.\n",
    "\n",
    "The original NeRF work has spawned a minor revolution in how 3D scenes are represented in the fields of computer graphics and computer vision, because:\n",
    "\n",
    "- the proposed scheme of learning a neural representation of the 3D scene was very simple;\n",
    "- the resulting NeRFs were capable of generating very realistic \"renderings\" of the learned scene.\n",
    "\n",
    "While the original NeRF paper was rather slow, because of the large neural network, since then faster *voxel-based* versions have been developed.\n",
    "\n",
    "In this section, we extend the 1D interpolation example from Chapter 5, extend it to interpolating in 3D voxel space, and show that this can be used to create a neural *radiance* field."
   ]
  },
  {
   "cell_type": "markdown",
   "metadata": {},
   "source": [
    "## Volume Rendering\n",
    "\n",
    "> Integrating color over a volume, mediated by density.\n",
    "\n",
    "The key technique in NeRF is **volume rendering**, a class of methods that generate images or video by tracing a ray into the scene and taking an integral of some sort over the length of the ray. In the original NeRF, a multi-layer perceptron is used to encode a function from the 3D coordinates on the ray to quantities like density and color, which are integrated to yield an image.\n",
    "\n",
    "<figure id=\"fig:NeRF-pipeline\"> \n",
    "<img src=\"https://raw.githubusercontent.com/gtbook/robotics/main/Figures7/NeRF-pipeline.png?raw=1\" style=\"width:16cm\" alt=\"\">\n",
    "<figcaption>Figure 2: New views are rendered by integrating the density and color at regular intervals along each viewing ray.</figcaption>\n",
    "</figure>\n",
    "\n",
    "\n",
    "\n",
    "\n"
   ]
  },
  {
   "cell_type": "markdown",
   "metadata": {},
   "source": [
    "\n",
    "Figure <a href=\"#fig:NeRF-pipeline\" data-reference-type=\"ref\" data-reference=\"fig:NeRF-pipeline\">2</a> sketches out how volume rendering works. On the left, for *every* pixel you want to render, a ray is projected into the 3D volume of interested (here represented by a cube) and 3D points are sampled along this ray. For every sample, the neural network $F_\\Theta$ is queried for both a local *density* $\\delta$ and a *color* $c$. The colors are then integrated along the ray, their contributions mediated by the local density, to yield a final pixel color.\n",
    "\n",
    "To get some intuition, think about where high density regions will exist for the simple example scene shown. Here, we expect the density to be high on the surface of the object - the lego excavator toy in this example. If that is the only high-density area on the ray, the pixel corresponding to that ray will just use the color from that high-density surface. However, the integration scheme, which we actually implement below, will also take into account occlusion or even semi-transparency."
   ]
  },
  {
   "cell_type": "markdown",
   "metadata": {},
   "source": [
    "### Sampling from Rays\n",
    "\n",
    "The first part of a volume renderer is to sample points evenly on rays shot from optical center of a camera. If we are given the `origin` and the `direction` of a ray (as a unit-vector) sampling is simple enough: a point $P$ on the ray at a distance $t$ from the origin $O$, in the direction $D$ is given as\n",
    "\n",
    "$$\n",
    "P= O + t  D\n",
    "$$\n",
    "\n",
    "We implement just that in the function below:"
   ]
  },
  {
   "cell_type": "code",
   "execution_count": null,
   "metadata": {},
   "outputs": [],
   "source": [
    "def sample_along_ray(t_values, origins, directions):\n",
    "    \"\"\"Sample points along rays defined by origins and (unit-norm) directions.\"\"\"\n",
    "    return origins[..., None, :] + t_values[:, None] * directions[..., None, :]"
   ]
  },
  {
   "cell_type": "markdown",
   "metadata": {},
   "source": [
    "Notice that the way we implemented `sample_along_ray` takes care to handle *arbitrary* batches of origin/direction pairs, as long as their last dimensions is 3. PyTorch broadcasting rules will take care to appropriately expand the array of t values. To illustrate this, here we sample two rays at the same time:"
   ]
  },
  {
   "cell_type": "code",
   "execution_count": null,
   "metadata": {},
   "outputs": [],
   "source": [
    "t_values = torch.tensor([1, 2, 3, 4, 5])\n",
    "origins = torch.tensor([[0.0, 0.0, 0.0], [0.0, 0.0, 0.0]])\n",
    "directions = torch.tensor([[1.0, 0.0, 0.0], [1.0, 1.0, 0.0] / np.sqrt(2)])\n",
    "samples = sample_along_ray(t_values, origins, directions)\n",
    "assert samples.shape == torch.Size([2, 5, 3])\n",
    "\n",
    "# Plot the samples:\n",
    "fig=px.scatter(x=samples[...,0].flatten(), y=samples[...,1].flatten())\n",
    "fig.add_scatter(x=[0], y=[0], mode='markers', marker=dict(color='red', size=10), name='Origin')"
   ]
  },
  {
   "cell_type": "markdown",
   "metadata": {},
   "source": [
    "### Integration along Rays\n",
    "\n",
    "The second part of the volume rendering story is where the magic happens. Assuming that we are given the densities $\\sigma_i$ and colors $c_i$ at the sampled points from above, then we can calculate the color for a given ray using this equation:\n",
    "\n",
    "$$\n",
    "C = \\sum_{i=1}^N T_i \\alpha_i c_i\n",
    "$$\n",
    "\n",
    "where $T_i$ is the **transmittance**, which measures how free of occlusion the space is between the $i^th$ sample and the ray origin,\n",
    "\n",
    "$$\n",
    "T_i \\doteq \\exp ( - \\sum_{j=1}^{i-1} \\sigma_j)\n",
    "$$\n",
    "\n",
    "and $\\alpha_i$ is the alpha value or **opacity** at the $i^th$ sample,\n",
    "\n",
    "$$\n",
    "\\alpha_i \\doteq 1 - \\exp(-\\sigma_i).\n",
    "$$\n",
    "\n",
    "The calculation above simulates how light is absorbed as it travels through a medium, and can even deal with semi-transparency such as smoke, flames, frosted windows, etc. It is a simplified version of the calculation in the original NeRF paper as we do not bother to deal with non-uniform sampling. It is easy to understand: the color $c_i$ at the $i^th$ sample will contribute a lot if there is not a lot of \"stuff\" between it and the origin (transmittance $T_i$ is high), *and* the local opacity $\\alpha_i$ is high. Conversely, if either visibility from the origin is occluded (transmittance $T_i$ is low) *or* there is really nothing there (opacity $\\alpha_i$ is low) then the sample will not contribute much to $C$.\n"
   ]
  },
  {
   "cell_type": "markdown",
   "metadata": {},
   "source": [
    "The function below implements this equation, again taking care that arbitrary batch dimensions can be handled. It also allows for specifying a background color, that is composited with the rendered color in case the ray does not hit anything in the scene."
   ]
  },
  {
   "cell_type": "code",
   "execution_count": null,
   "metadata": {},
   "outputs": [],
   "source": [
    "def render_along_ray(density, rgb, background=torch.zeros(3, dtype=float)):\n",
    "    \"\"\"Compute the final rendered color given the density and RGB values.\"\"\"\n",
    "    alpha = 1 - torch.exp(-density)\n",
    "    cumulative_density = torch.cumsum(density, dim=-1)\n",
    "    trans = torch.exp(-cumulative_density)\n",
    "    trans = torch.cat([torch.ones_like(density[..., :1]), trans[..., :-1]], dim=-1)\n",
    "\n",
    "    weights = alpha * trans\n",
    "    color_acc = torch.einsum('...i,...ij->...j', weights, rgb)\n",
    "    acc = weights.sum(dim=-1, keepdim=True)\n",
    "\n",
    "    return color_acc + (1.0 - acc) * background"
   ]
  },
  {
   "cell_type": "markdown",
   "metadata": {},
   "source": [
    "We illustrate it below using `density` and `rgb` inputs with the same shape as our sampled rays from above, demonstrating that we indeed get two RGB colors as the end-result:"
   ]
  },
  {
   "cell_type": "code",
   "execution_count": null,
   "metadata": {},
   "outputs": [],
   "source": [
    "\n",
    "density = torch.rand(2, 5) # Random density\n",
    "rgb = torch.rand(2, 5, 3) * 255 # Random colors\n",
    "rendered = render_along_ray(density, rgb)\n",
    "assert rendered.shape == torch.Size([2, 3])\n",
    "print(rendered.detach().numpy())"
   ]
  },
  {
   "cell_type": "markdown",
   "metadata": {},
   "source": [
    "Of course, the result is totally random, because our inputs are random! Hence, below we add the final piece of the pizzle: a way to regress the densities and colors in a given volume from input images."
   ]
  },
  {
   "cell_type": "markdown",
   "metadata": {},
   "source": [
    "## A Differentiable Voxel Grid\n",
    "\n",
    "> A voxel grid of density and color.\n",
    "\n",
    "A key decision in the NeRF architecture is how to represent the function $F_\\Theta$ so it can be queried for a density and a color at every point. In short, we need:\n",
    "\n",
    "$$\n",
    "(\\sigma, c) = F_\\Theta(P),\\text{ with }P\\in R^3\n",
    "$$\n",
    "\n",
    "with $P\\in R^3$, $\\sigma\\in R$, and $c\\in[0...255]^3$. Note that in computer vision neural networks typically take take high-dimensional inputs, e.g., entire images, so having such a low-dimensional input is highly unusual. This \"coordinate-based\" approach is one of the breakthroughs of NeRF-style representations.\n",
    "\n",
    "We will use a voxel grid to represent $F_\\Theta$. In the original NeRF paper, the authors used a fully connected neural network, also called an MLP or multi-layer perceptron that takes a 3D coordinate as input, and in some variants also a ray direction. In DVGO, a later an much faster method, the color and density are instead stored in a voxel grid, which is the approach we  adopt as well. The key is to create a *differentiable* 3D interpolation scheme, that we can then *train* using samples from the function we want to interpolate."
   ]
  },
  {
   "cell_type": "markdown",
   "metadata": {},
   "source": [
    "We can build upon the 1D interpolation example that we introduced in Section 5.6. However, to represent 3D scenes we need to generalize it to 3D. In particular, the interpolation function has to be changed from simple linear interpolation over an interval, to **trilinear interpolation** on voxels. \n",
    "The code below implements trilinear interpolation, and it really is not that complicated: the values on the *eight* corners of each voxel are combined using three blending weights, depending on where the queried point lies within that voxel:"
   ]
  },
  {
   "cell_type": "code",
   "execution_count": null,
   "metadata": {},
   "outputs": [],
   "source": [
    "def interpolate(v0, v1, alpha):\n",
    "    \"\"\"Interpolate between v0 and v1 using alpha, using unsqueeze to properly handle batches.\"\"\"\n",
    "    return v0 * (1 - alpha.unsqueeze(-1)) + v1 * alpha.unsqueeze(-1)\n",
    "\n",
    "class VoxelGrid(nn.Module):\n",
    "    def __init__(self, shape, d=1):\n",
    "        \"\"\"A 3D voxel grid with given `shape` with learnable values at the corners of the voxels.\"\"\"\n",
    "        super(VoxelGrid, self).__init__()\n",
    "        self.grid = nn.Parameter(nn.init.normal_(torch.empty(*shape, d)))\n",
    "\n",
    "\n",
    "    def forward(self, p):\n",
    "        x, y, z = p[..., 0], p[..., 1], p[..., 2]\n",
    "        X, Y, Z = torch.floor(x).long(), torch.floor(y).long(), torch.floor(z).long()\n",
    "        a, b, c = x - X, y - Y, z - Z # blending weights along each axis\n",
    "\n",
    "        # clamp indices to grid size:\n",
    "        Xp = torch.clamp(X + 1, max=self.grid.shape[0] - 1)\n",
    "        Yp = torch.clamp(Y + 1, max=self.grid.shape[1] - 1)\n",
    "        Zp = torch.clamp(Z + 1, max=self.grid.shape[2] - 1)\n",
    "\n",
    "        c00 = interpolate(self.grid[Z, Y, X, :], self.grid[Z, Y, Xp, :], a)\n",
    "        c01 = interpolate(self.grid[Z, Yp, X, :], self.grid[Z, Yp, Xp, :], a)\n",
    "        c10 = interpolate(self.grid[Zp, Y, X, :], self.grid[Zp, Y, Xp, :], a)\n",
    "        c11 = interpolate(self.grid[Zp, Yp, Xp, :], self.grid[Zp, Yp, X, :], a)\n",
    "\n",
    "        c0 = interpolate(c00, c01, b)\n",
    "        c1 = interpolate(c10, c11, b)\n",
    "        \n",
    "        return interpolate(c0, c1, c).squeeze(-1)"
   ]
  },
  {
   "cell_type": "markdown",
   "metadata": {},
   "source": [
    "The VoxelGrid effectively defines a parameterized function in 3D. when we query it, we need to provide 3D coordinates. For example, the code below initializes a VoxelGrid with random values, and then evaluates the a scalar function at a 3D point:"
   ]
  },
  {
   "cell_type": "code",
   "execution_count": null,
   "metadata": {},
   "outputs": [],
   "source": [
    "voxel_grid_module = VoxelGrid(shape=(6, 6, 6), d=1)\n",
    "\n",
    "point = torch.Tensor([1.5, 2.7, 3.4])\n",
    "output = voxel_grid_module(point)\n",
    "print(f\"Interpolated Output: {output.item():.5f}\")"
   ]
  },
  {
   "cell_type": "markdown",
   "metadata": {},
   "source": [
    "However, the code is carefully written so it can handle both arbitrary batches inputs and multi-dimensional outputs. As an example, below we create a grid that interpolates a four-dimensional function (`d=4`), and evaluate it at a 2x2 batch `x`, all of them 3D (as required!):"
   ]
  },
  {
   "cell_type": "code",
   "execution_count": null,
   "metadata": {},
   "outputs": [],
   "source": [
    "voxel_grid_module = VoxelGrid(shape = (6, 6, 6), d=4)\n",
    "\n",
    "x = torch.Tensor([[[1.5, 2.7, 3.4], [2.3, 4.6, 1.1]], [[2.3, 4.6, 1.1], [2.3, 4.6, 1.1]]])\n",
    "y = voxel_grid_module(x)\n",
    "print(\"Input shape:\", x.shape)\n",
    "print(\"Output shape:\", y.shape)\n",
    "print(\"Interpolated Output:\\n\", y.detach().numpy())"
   ]
  },
  {
   "cell_type": "markdown",
   "metadata": {},
   "source": [
    "Being able to handle large batches of points is crucial when training with stochastic gradient descent, as we saw before. But when training a NeRF, we will also use the ability to have arbitrary input shapes for other purposes."
   ]
  },
  {
   "cell_type": "markdown",
   "metadata": {},
   "source": [
    "## DVGO\n",
    "\n",
    "We can now define a simple DVGO (Direct Voxel Grid Optimization, see XXX et al.) class that combines:\n",
    "- sampling points $P$ along each ray\n",
    "- converting from scene coordinates into grid coordinates\n",
    "- retrieving density and color by interpolating in *two* voxel grids\n",
    "- volume rendering\n",
    "Each of these steps has a number of configurable parameters, which we can capture in a small \"dataclass\" and which you can experiment with:"
   ]
  },
  {
   "cell_type": "code",
   "execution_count": null,
   "metadata": {},
   "outputs": [],
   "source": [
    "@dataclass\n",
    "class Config:\n",
    "    near, far, num_samples = 0.0, 1.0, 32             # sampler settings\n",
    "    min_corner, max_corner = (-1, -1, -1), (1, 1, 1)  # grid settings\n",
    "    shape = (128, 128, 128)                           # grid dimensions\n",
    "    background = torch.zeros(3, dtype=torch.float32)  # background color"
   ]
  },
  {
   "cell_type": "markdown",
   "metadata": {},
   "source": [
    "The DVGO class below first pre-computes a number of things in the constructor, and then just has the `forward` method which is fully differentiable. Beyond beyond sampling rays and volume rendering, which we discussed before, there are three new pieces:\n",
    "\n",
    "- there is a rescaling step to go from scene to grid coordinates\n",
    "- the output from the density voxel grid is put through a softplus nonlinearity.\n",
    "- the color from the density voxel grid is put through a sigmoid nonlinearity.\n",
    "\n",
    "The latter two steps are a differentiable way to ensure the output samples remain within their expected domains. Note also that training a NeRF can take a long time, so we are careful to use `float32` everywhere."
   ]
  },
  {
   "cell_type": "code",
   "execution_count": null,
   "metadata": {},
   "outputs": [],
   "source": [
    "class SimpleDVGO(nn.Module):\n",
    "    def __init__(self, config: Config = Config()):\n",
    "        \"\"\"Initialize voxel grids and bounding box corners.\"\"\"\n",
    "        super().__init__()  # Calling the superclass's __init__ method\n",
    "\n",
    "        # Initialize sampler parameters:\n",
    "        self.depths = torch.linspace(\n",
    "            config.near, config.far, config.num_samples + 1, dtype=torch.float32\n",
    "        )\n",
    "        self.t_values = 0.5 * (self.depths[1:] + self.depths[:-1])\n",
    "\n",
    "        # Set up conversion from scene coordinates to grid coordinates:\n",
    "        self.min_corner = torch.tensor(config.min_corner, dtype=torch.float32)\n",
    "        self.max_corner = torch.tensor(config.max_corner, dtype=torch.float32)\n",
    "        self.scale = 1.0 / (self.max_corner - self.min_corner)\n",
    "        self.float_shape = torch.tensor(config.shape, dtype=torch.float32)\n",
    "\n",
    "        # Initialize differentiable voxel grids:\n",
    "        self.rgb_voxel_grid = VoxelGrid(config.shape, d=3)\n",
    "        self.density_voxel_grid = VoxelGrid(config.shape, d=1)\n",
    "\n",
    "        # Finally, record background color for rendering:\n",
    "        self.background = config.background\n",
    "\n",
    "    def forward(self, x_samples):\n",
    "        \"\"\"Perform volume rendering using the provided ray information.\"\"\"\n",
    "        # Extract ray origins and directions from x_samples\n",
    "        origins = x_samples[..., :3].to(dtype=torch.float32)\n",
    "        directions = x_samples[..., :3].to(dtype=torch.float32)\n",
    "\n",
    "        # Sample along the ray\n",
    "        depths, samples = sample_along_ray(self.t_values, origins, directions)\n",
    "\n",
    "        # Rescale to fit within the grid\n",
    "        unclamped = (samples - self.min_corner) * self.scale\n",
    "        rescaled = torch.clamp(unclamped, 0.0, 0.9999999) * self.float_shape\n",
    "\n",
    "        # Query Density Voxel Grid\n",
    "        density = F.softplus(torch.squeeze(self.density_voxel_grid(rescaled)))\n",
    "\n",
    "        # Query RGB Voxel Grid\n",
    "        rgb = 256.0 * torch.sigmoid(self.rgb_voxel_grid(rescaled))\n",
    "\n",
    "        # Render\n",
    "        return render_along_ray(density, rgb, self.background)"
   ]
  },
  {
   "cell_type": "code",
   "execution_count": null,
   "metadata": {},
   "outputs": [],
   "source": [
    "# Initialize renderer\n",
    "dvgo = SimpleDVGO()\n",
    "\n",
    "x_samples = torch.rand((2, 32, 6))\n",
    "y_samples = dvgo(x_samples)\n",
    "# Verify shape of the output\n",
    "print(\"Output tensor shape:\", y_samples.shape)"
   ]
  },
  {
   "cell_type": "markdown",
   "metadata": {},
   "source": [
    "## Training a NeRF with images\n",
    "\n",
    "Now that we built the basic infrastructure to render a NeRF and regress it from data, let us apply it to real images. To do this, we will need two distinct pieces of information:\n",
    "\n",
    "- the actual images themselves\n",
    "- accurate geometry from where the images were taken\n",
    "\n",
    "The latter is important because, as we saw above, a NeRF is trained with a set of *rays*. For a given image, every pixel in the image corresponds to a ray. The *origin* of the ray is exactly the optical center of the camera used to acquire the image, so we need at least that information. But to calculate, for every pixel, the *direction* of the ray needs a lot more. In fact, this is typically a two step process:\n",
    "\n",
    "- the *intrinsic* calibration of the camera, most importantly the focal length, tells us how to convert pixel coordinates into a direction in the camera frame.\n",
    "- the *extrinsic* calibration, position and orientation with which the image was taken, is needed to transform directions in the camera frame into the scene coordinate frame.\n",
    "\n",
    "Acquiring all this information for an arbitrary image sequence taken with some unknown, uncalibrated camera can be complicated. Cameras come in a variety of sizes and with very different lenses, and effects like radial distortion make the modeling process non-trivial. In addition, recovering the actual position and attitude of the camera in a scene is typically done through structure from motion, which can be time-consuming and tricky."
   ]
  },
  {
   "cell_type": "markdown",
   "metadata": {},
   "source": [
    "\n",
    "In the following, we will assume that all this hard work has been done for us, and/or the images have been simulated with exactly known camera parameters, both intrinsic and extrinsic. One popular way to accomplish this is by proving undistorted images accompanied by a $3 \\times 4$ **camera matrix** $M$. Recall that a 3D point $P$ can be projected into an image via\n",
    "\n",
    "$$\n",
    "\\tilde{p} = K R^T (P - t)\n",
    "$$\n",
    "\n",
    "where $\\tilde{p}$ are *homogeneous$ 2D image coordinates. We can re-write this as\n",
    "\n",
    "$$\n",
    "\\tilde{p} = M\\tilde{P}\n",
    "$$\n",
    "\n",
    "where $\\tilde{P} = \\begin{bmatrix}P \\\\1 \\end{bmatrix}$ and the camera matrix $M$ is given by\n",
    "\n",
    "$$\n",
    "M = [A|a] = [K R^T | - K R^T t]\n",
    "$$\n",
    "\n",
    "That means that if we are *given* the camera matrix $M$ we can always recover the ray origins as \n",
    "$$\n",
    "t = -A^{-1} a\n",
    "$$\n",
    "\n",
    "and a random 3D point $P$ on the ray corresponding to $\\tilde{p}$ as\n",
    "\n",
    "$$\n",
    "P = A^{-1}(\\tilde{p} - a)\n",
    "$$\n",
    "\n",
    "since $\\tilde{p} = AP + a$. We will illustrate this below with an actual dataset."
   ]
  },
  {
   "cell_type": "markdown",
   "metadata": {},
   "source": [
    "### A simulated dataset\n",
    "\n",
    "<figure>\n",
    "<img src=\"stonehenge/train/render47.png\" id=\"fig:stonehenge\" style=\"width:14cm\" alt=\"\">\n",
    "<figcaption>One of the synthetically generated images from the stonehenge dataset.</figcaption>\n",
    "</figure>\n",
    "\n",
    "In particular, we will use a dataset generated by Stanford researchers using Blender, using a simple 3D model of the Stonehenge monument in England. The dataset was originally published as part of the [Stanford NeRF Navigation project](https://mikh3x4.github.io/nerf-navigation/), and consists of 500 images, split into 200 images for training, and then validation and tests sets of 150 images each. One of the training images is shown above. The code below illustrates how to read the image into memory and display it:"
   ]
  },
  {
   "cell_type": "code",
   "execution_count": null,
   "metadata": {},
   "outputs": [],
   "source": [
    "def read_training_image(index:int):\n",
    "    \"\"\"Read image from the stonehenge dataset, and return as a PIL image.\"\"\"\n",
    "    # url = f\"https://raw.githubusercontent.com/gtbook/robotics/main/Figures5/{image_name}\"\n",
    "    # return PIL.Image.open(requests.get(url, stream=True).raw)\n",
    "    return PIL.Image.open(f\"stonehenge/train/render{index}.png\")"
   ]
  },
  {
   "cell_type": "code",
   "execution_count": null,
   "metadata": {},
   "outputs": [],
   "source": [
    "image = read_training_image(47)\n",
    "plt.imshow(image);"
   ]
  },
  {
   "cell_type": "markdown",
   "metadata": {},
   "source": [
    "Feel free to modify the index above and examine any of the other 198 images in the training set. The camera matrices are all given in a json file, which we can parse into a python dictionary:"
   ]
  },
  {
   "cell_type": "code",
   "execution_count": null,
   "metadata": {},
   "outputs": [],
   "source": [
    "help(image)"
   ]
  },
  {
   "cell_type": "code",
   "execution_count": null,
   "metadata": {},
   "outputs": [],
   "source": [
    "# Open the local JSON file and read its content\n",
    "with open(\"stonehenge/transforms_train.json\", \"r\") as file:\n",
    "    data = json.load(file)\n",
    "\n",
    "# Now, `data` contains the parsed JSON content.\n",
    "print(data)  # For verification\n"
   ]
  },
  {
   "cell_type": "markdown",
   "metadata": {},
   "source": [
    "The camera matrix associated with the image below can then be extracted by converting to numpy:"
   ]
  },
  {
   "cell_type": "code",
   "execution_count": null,
   "metadata": {},
   "outputs": [],
   "source": [
    "def calculate_intrinsics(image_size: tuple, camera_angle_x: float) -> np.ndarray:\n",
    "    \"\"\"Calculate the intrinsic matrix given the image size and camera angle.\"\"\"\n",
    "    W, H = image_size\n",
    "    f = W / (2 * np.tan(camera_angle_x/2))\n",
    "    return np.array([[f, 0, W/2], [0, f, H/2], [0, 0, 1]])\n",
    "\n",
    "def extract_extrinsics(data: dict, index: int) -> np.ndarray:\n",
    "    \"\"\"Extract the extrinsic matrix from the given data.\"\"\"\n",
    "    wTc = np.array(data[\"frames\"][index][\"transform_matrix\"]) # Make sure to use the index parameter\n",
    "    t = wTc[:3, 3] # translation\n",
    "    R = wTc[:3, :3] # rotation\n",
    "    return np.hstack((R.T, -R.T @ t.reshape(-1, 1)))\n",
    "\n",
    "def read_json_data(filepath: str) -> dict:\n",
    "    \"\"\"Read the JSON data from a given filepath.\"\"\"\n",
    "    with open(filepath, \"r\") as file:\n",
    "        return json.load(file)\n",
    "\n",
    "def read_camera_matrix(index:int, image_size: tuple) -> np.ndarray:\n",
    "    \"\"\"Read the 3x4 camera matrix associated with a training image.\"\"\"\n",
    "    data = read_json_data(\"stonehenge/transforms_train.json\")\n",
    "    K = calculate_intrinsics(image_size, data['camera_angle_x'])\n",
    "    M = extract_extrinsics(data, index)\n",
    "    return K @ M\n"
   ]
  },
  {
   "cell_type": "code",
   "execution_count": null,
   "metadata": {},
   "outputs": [],
   "source": [
    "M = read_camera_matrix(47, image.size)\n",
    "print(M.shape)\n",
    "print(M)"
   ]
  },
  {
   "cell_type": "code",
   "execution_count": null,
   "metadata": {},
   "outputs": [],
   "source": [
    "data = read_json_data(\"stonehenge/transforms_train.json\")\n",
    "calculate_intrinsics(image.size, data['camera_angle_x'])"
   ]
  },
  {
   "cell_type": "markdown",
   "metadata": {},
   "source": [
    "We can then calculate the ray origin and ray direction for any pixel:"
   ]
  },
  {
   "cell_type": "code",
   "execution_count": null,
   "metadata": {},
   "outputs": [],
   "source": [
    "A, a = M[:, :3], M[:, 3]\n",
    "t = -np.linalg.inv(A) @ a\n",
    "p_ = np.array([2.5, 1.5, 1])\n",
    "P = np.linalg.inv(A) @ (p_ - a)\n",
    "D = P / np.linalg.norm(P)\n",
    "print(t, D)"
   ]
  },
  {
   "cell_type": "code",
   "execution_count": null,
   "metadata": {},
   "outputs": [],
   "source": [
    "def calculate_rays(M: np.ndarray, image_size: tuple) -> tuple:\n",
    "    \"\"\"Calculate a batch of rays associated with every pixel in a given image.\"\"\"\n",
    "    W, H = image_size\n",
    "    A, a = torch.from_numpy(M[:, :3]), torch.from_numpy(M[:, 3])\n",
    "    inv_A = torch.inverse(A)\n",
    "\n",
    "    # Compute origin and expand to all pixels.\n",
    "    t = -inv_A @ a\n",
    "    ones = torch.ones((H, W))\n",
    "    T = torch.einsum('i,hw->hwi', t, ones) # creates (H,W,3) batch\n",
    "    \n",
    "    # Batch compute directions for all pixels.\n",
    "    x, y = torch.meshgrid(torch.linspace(0.5, W-0.5, W), torch.linspace(0.5, H-0.5, H), indexing='xy')\n",
    "    p_ = torch.stack([x, y, ones], dim=-1)\n",
    "    P = torch.einsum('ij,hwj->hwi', inv_A, p_ - a) # batch matrix multiply\n",
    "\n",
    "    norms = -torch.linalg.norm(P, dim=-1, keepdim=True)\n",
    "    D = P / (norms + 1e-8)\n",
    "\n",
    "    return T, D"
   ]
  },
  {
   "cell_type": "markdown",
   "metadata": {},
   "source": [
    "Let's try this for a simple 4x3 image (where 4 is width and 3 is height), and check that the batch dimensions are as we expect (height, width, 3), and that for the center pixel they agree with our manual calculation:"
   ]
  },
  {
   "cell_type": "code",
   "execution_count": null,
   "metadata": {},
   "outputs": [],
   "source": [
    "origins, directions = calculate_rays(M, (5, 3))\n",
    "assert origins.shape == (3, 5, 3)\n",
    "assert directions.shape == (3, 5, 3)\n",
    "assert np.allclose(origins[1, 2, :], t)\n",
    "assert np.allclose(directions[1, 2, :], D)"
   ]
  },
  {
   "cell_type": "code",
   "execution_count": null,
   "metadata": {},
   "outputs": [],
   "source": [
    "fig = go.Figure()\n",
    "for i in range(0, 199, 10):\n",
    "    M = read_camera_matrix(i, image.size)\n",
    "    origins, directions = calculate_rays(M, image.size)\n",
    "    T = origins[::100,::100,:].reshape(-1, 3)\n",
    "    D = directions[::100,::100,:].reshape(-1, 3)\n",
    "\n",
    "    # Adding line segments for each ray\n",
    "    for start, end in zip(T, T + D):\n",
    "        fig.add_trace(go.Scatter3d(x=[start[0], end[0]],\n",
    "                                y=[start[1], end[1]],\n",
    "                                z=[start[2], end[2]],\n",
    "                                mode='lines',\n",
    "                                line=dict(color='red')))\n",
    "\n",
    "fig.update_layout(showlegend=False)\n",
    "fig.show()\n"
   ]
  },
  {
   "cell_type": "markdown",
   "metadata": {},
   "source": [
    "Let us recall the training code from Chapter 5. We previously used this code to train for the parameters of a 1D interpolation grid, minimizing a Mean-Squared Error (MSE) loss function, i.e., the squared difference between the predicted values and the training data values. This is the standard loss function for continuous *regression* problems."
   ]
  },
  {
   "cell_type": "code",
   "execution_count": null,
   "metadata": {},
   "outputs": [],
   "source": [
    "def train_sgd(model, dataset, loss_fn, callback=None, learning_rate=0.5, num_epochs=31, batch_size=25):\n",
    "    # Initialize optimizer\n",
    "    optimizer = optim.SGD(model.parameters(), lr=learning_rate)\n",
    "\n",
    "    # Create DataLoader for batch processing\n",
    "    data_loader = DataLoader(dataset, batch_size=batch_size, shuffle=True)\n",
    "\n",
    "    # Loop over the dataset multiple times (each loop is an epoch)\n",
    "    for epoch in range(num_epochs):\n",
    "        for x_batch, y_batch in data_loader:\n",
    "            optimizer.zero_grad()\n",
    "            output = model(x_batch)\n",
    "            loss = loss_fn(output, y_batch)\n",
    "            loss.backward()\n",
    "            optimizer.step()\n",
    "\n",
    "        if callback is not None:\n",
    "            callback(epoch, model)"
   ]
  },
  {
   "cell_type": "code",
   "execution_count": null,
   "metadata": {},
   "outputs": [],
   "source": [
    "# Initialize your SimpleDVGO model\n",
    "model = SimpleDVGO()\n",
    "\n",
    "# Combine ray origins and directions into one tensor to use as x_samples\n",
    "# Concatenate along the last dimension (-1)\n",
    "x_samples = torch.cat((ray_origins, ray_directions), dim=-1)\n",
    "print(\"x_samples shape:\", x_samples.shape)\n",
    "\n",
    "predicted = model(x_samples)\n",
    "assert predicted.shape == (2, 2, 3)\n",
    "\n",
    "# Create a corresponding set of 3 target RGB colors\n",
    "# Each one is a 3D RGB color; assume they're randomly initialized here\n",
    "y_samples = torch.tensor([[[0.3, 0.2, 0.1], [0.6, 0.5, 0.4]],\n",
    "                          [[0.9, 0.8, 0.7], [0.3, 0.2, 0.1]]])\n",
    "\n",
    "# Train the model\n",
    "train(model, x_samples, y_samples)\n"
   ]
  },
  {
   "cell_type": "code",
   "execution_count": null,
   "metadata": {},
   "outputs": [],
   "source": []
  }
 ],
 "metadata": {
  "colab": {
   "collapsed_sections": [],
   "include_colab_link": true,
   "name": "S76_drone_learning.ipynb",
   "provenance": []
  },
  "interpreter": {
   "hash": "c6e4e9f98eb68ad3b7c296f83d20e6de614cb42e90992a65aa266555a3137d0d"
  },
  "kernelspec": {
   "display_name": "Python 3.9.6 64-bit ('base': conda)",
   "name": "python3"
  },
  "language_info": {
   "codemirror_mode": {
    "name": "ipython",
    "version": 3
   },
   "file_extension": ".py",
   "mimetype": "text/x-python",
   "name": "python",
   "nbconvert_exporter": "python",
   "pygments_lexer": "ipython3",
   "version": "3.9.18"
  },
  "latex_metadata": {
   "affiliation": "Georgia Institute of Technology",
   "author": "Frank Dellaert and Seth Hutchinson",
   "title": "Introduction to Robotics"
  }
 },
 "nbformat": 4,
 "nbformat_minor": 2
}
