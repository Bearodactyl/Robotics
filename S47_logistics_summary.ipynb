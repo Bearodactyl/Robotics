{
 "cells": [
  {
   "attachments": {},
   "cell_type": "markdown",
   "metadata": {
    "id": "nAvx4-UCNzt2"
   },
   "source": [
    "# Chapter Summary\n",
    "\n",
    "<img src=\"Figures4/S40-Warehouse_robots-01.jpg\" alt=\"Splash image with cute robot with a stalked eye\" width=\"60%\" align=center style=\"vertical-align:middle;margin:10px 0px\">"
   ]
  },
  {
   "cell_type": "markdown",
   "metadata": {},
   "source": [
    "In the previous chapters, we have mainly considered discrete probability distributions. In Chapter 2, we modeled the world state using five\n",
    "discrete categories of trash, and in Chapter 3 we modeled the world as five discrete rooms.\n",
    "In this chapter, we began a serious study of continuous random variables, first to represent the robot's state, and then to represent\n",
    "sensor readings.\n",
    "Representing and reasoning about continuous probability distributions is significantly more difficult than working in discrete domains,\n",
    "and we introduced a set of representational and inference tools that were able to scale to these more difficult problems."
   ]
  },
  {
   "cell_type": "markdown",
   "metadata": {},
   "source": [
    "# Models\n",
    "\n",
    "In this chapter, we represented the state of the robot using continuous coordinates, $x \\in \\mathbb{R}^2$,\n",
    "and we modeled uncertainty in state using a Gaussian distribution. \n",
    "Gaussian distributions have several nice properties. \n",
    "First, they are completely characterized by two parameters,\n",
    "a mean vector, $\\mu \\in \\mathbb{R}^n$, and a covariance matrix, $\\Sigma \\in \\mathbb{R}^{n \\times n}$.\n",
    "In the one-dimensional case, these are scalars, denoted by $\\mu$ and $\\sigma$.\n",
    "Perhaps more importantly, Gaussian distributions enjoy the privilege of being very good approximations\n",
    "for many stochastic aspects of real-world systems.\n",
    "Roboticists, and engineers in general, often resort to the assumption that noise, disturbances, or other stochastic aspects of\n",
    "real-world systems can be accurately approximated using Gaussian distributions.\n",
    "\n",
    "To model uncertainty in the motion model, we introced the conditional Gaussian pdf.\n",
    "In particular, we assumed that noise in the motion model could be modeled as additive Gaussian noise,\n",
    "so that the state at time $k+1$ is defined as\n",
    "\n",
    "$$x_{k+1} = x_k + u_k + w_k$$\n",
    "\n",
    "in which $x_k$ is the state at time $k$, $w_k$ is the random distrubance,\n",
    "and $u_k$ is the commanded motion at time $k$.\n",
    "Under our Gaussian assumption that $w_k \\sim N(\\mu,\\Sigma)$,\n",
    "the probability distribution for the state at time $k+1$ is given by\n",
    "the conditional Gaussian pdf\n",
    "\n",
    "$$\n",
    "p(x_{k+1}|x_{k}, u_k) = \\mathcal{N}(x_{k_1}; x_{k} +  u_k, \\Sigma)\n",
    "$$\n",
    "\n",
    "Thus, by assuming Gaussian noise in the motion model, we arrive to a kind of\n",
    "\"Gaussian in/Gaussian out\" formulation, which can greatly simplify certain inference\n",
    "problems (e.g., by using the Kalman filter).\n",
    "\n",
    "We can also use continuous conditional pdf's to model sensors.\n",
    "For example, if the ideal (i.e., noise-free) sensor reading at time $k$\n",
    "is defined by a function $h(x_k)$, we can model the sensor\n",
    "output by the random variable\n",
    "\n",
    "$$z_k = h(x_k) + w_k$$\n",
    "\n",
    "in which $w_k$ is the noise term (unrelated to the noise in our motion model).\n",
    "If $w_k$ is a Gaussian random variable,\n",
    "the conditional distribution for sensor measurement given the value of $h(x_k)$\n",
    "is given by\n",
    "\n",
    "$$\n",
    "\\begin{aligned}\n",
    "p(z_k|x_k) &= \\mathcal{N}(z_k;\\mu=h(x_k), \\sigma^2) \\\\\n",
    "&= \\frac{1}{\\sqrt{2\\pi\\sigma^2}} \\exp\\{-\\frac{1}{2\\sigma^2}(z_k-h(x_k))^2\\}\n",
    "\\end{aligned}\n",
    "$$\n",
    "\n",
    "This approach generalizes nicely to the case of multi-dimensional sensors, as we saw\n",
    "for the case of GPS-like sensors with Gaussian noise.\n",
    "\n",
    "There are, of course, many problems for which the uncertainty cannot be adequately modeled using\n",
    "Gaussian distributions. For example, a Gaussian distribution, which has a single mode,\n",
    "cannot adequately model a multi-model distribution.\n",
    "A classic example of this situation is a robot in a long hallway that senses an office door;\n",
    "the robot has a strong belief that it is in front of a door, but no way to know which\n",
    "door.\n",
    "This situation corresponds to a probability distribution with modes at locations that are in front of office doors.\n",
    "In this chapter, we saw two ways to represent complex probability distributions: grids and samples.\n",
    "In the case of grids, we merely decompose the state space into a grid, and assign to each grid\n",
    "cell a value that corresponds to the probability that the state lies in that cell.\n",
    "In the case of samples, the situation is less structured.\n",
    "Instead of a uniform grid, sampling-based approaches represent the probability distribution by\n",
    "a collection of weighted samples (also called *particles*). The value of the sample specifies a state,\n",
    "and the weight approximates the probability mass associated to a local neighborhood of the sample.\n",
    "While grid-based representations grow exponentially with the dimension of the state space,\n",
    "sampling-based approaches are much more efficient, but require the availability of methods\n",
    "that can generate good sets of samples.\n",
    "\n",
    "Finally, in addition to introducing these methods for dealing with uncertainty,\n",
    "we also developed a simple geometric model for wheeled robot locomotion,\n",
    "specifically for the case of robots with omni wheels.\n",
    "In particular, we developed the differential relationships between the rotation of the\n",
    "robot's wheels, and the instantaneous velocity of the robot.\n",
    "There is, of course, uncertainty associated to this motion model; however,\n",
    "rather than explicitly consider this uncertainty, we merely bundled up all\n",
    "of the uncertainties associated with robot motion into the noise parameter\n",
    "$w_k$. This simplification leads to efficient computation, but it also has\n",
    "a fairly firm theoretical basis in the Central Limit Theorem,\n",
    "a well-known theorem from probability that essentially ensures\n",
    "that the aggregate of many sources of uncertainty can be well-characterized\n",
    "using a Gaussian distribution (there are, of course, many caveats and conditions, \n",
    "which we will not consider here).\n",
    "\n"
   ]
  },
  {
   "cell_type": "markdown",
   "metadata": {},
   "source": [
    "# Reasoning\n",
    "\n",
    "Gaussian dynamic Bayes nets\n",
    "localization w/Bayes filters\n",
    "Markv localizatin (grid)\n",
    "particle filter (smapling)\n",
    "Kalman filter\n",
    "\n",
    "Planning via value function\n",
    "\n",
    "learning as parameter estimatino (MLE, regressin, EM)"
   ]
  },
  {
   "cell_type": "markdown",
   "metadata": {},
   "source": [
    "# Background and \n",
    "\n",
    "here are a few.\n",
    "[Probabilistic Robotics](https://mitpress.mit.edu/9780262201629/probabilistic-robotics/) \n"
   ]
  }
 ],
 "metadata": {
  "colab": {
   "collapsed_sections": [],
   "include_colab_link": true,
   "name": "S40_logistics_intro.ipynb",
   "provenance": []
  },
  "interpreter": {
   "hash": "c6e4e9f98eb68ad3b7c296f83d20e6de614cb42e90992a65aa266555a3137d0d"
  },
  "kernelspec": {
   "display_name": "Python 3 (ipykernel)",
   "language": "python",
   "name": "python3"
  },
  "language_info": {
   "codemirror_mode": {
    "name": "ipython",
    "version": 3
   },
   "file_extension": ".py",
   "mimetype": "text/x-python",
   "name": "python",
   "nbconvert_exporter": "python",
   "pygments_lexer": "ipython3",
   "version": "3.8.12"
  },
  "latex_metadata": {
   "affiliation": "Georgia Institute of Technology",
   "author": "Frank Dellaert and Seth Hutchinson",
   "title": "Introduction to Robotics"
  }
 },
 "nbformat": 4,
 "nbformat_minor": 2
}
